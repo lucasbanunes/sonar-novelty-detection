{
 "cells": [
  {
   "cell_type": "code",
   "execution_count": 24,
   "metadata": {},
   "outputs": [],
   "source": [
    "import os\n",
    "import joblib\n",
    "import numpy as np\n",
    "import sklearn as sk\n",
    "import matplotlib.pyplot as plt"
   ]
  },
  {
   "cell_type": "code",
   "execution_count": 25,
   "metadata": {},
   "outputs": [],
   "source": [
    "data, labels, freq = joblib.load('/home/lucas_nunes/Documentos/datasets/lofar_data/lofar_data_file_fft_1024_overlap_0_decimation_3_spectrum_left_400.npy')\n",
    "runs_per_class = joblib.load('/home/lucas_nunes/Documentos/datasets/runs_info/runs_info_1024_fft_pts_3_decimation.joblib')"
   ]
  },
  {
   "cell_type": "code",
   "execution_count": 26,
   "metadata": {
    "tags": []
   },
   "outputs": [
    {
     "output_type": "stream",
     "name": "stdout",
     "text": "(25844, 400) (25844,) (400,)\n"
    },
    {
     "output_type": "execute_result",
     "data": {
      "text/plain": "{'A': [range(0, 863),\n  range(863, 1726),\n  range(1726, 2587),\n  range(2587, 3453),\n  range(3453, 4312)],\n 'B': [range(4312, 5501),\n  range(5501, 6257),\n  range(6257, 7246),\n  range(7246, 8556),\n  range(8556, 9724),\n  range(9724, 10837),\n  range(10837, 11864),\n  range(11864, 12767),\n  range(12767, 13217),\n  range(13217, 14093)],\n 'C': [range(14093, 14590),\n  range(14590, 15013),\n  range(15013, 15262),\n  range(15262, 15689),\n  range(15689, 16117),\n  range(16117, 16440),\n  range(16440, 16703),\n  range(16703, 17061),\n  range(17061, 17926)],\n 'D': [range(17926, 18572),\n  range(18572, 19289),\n  range(19289, 20148),\n  range(20148, 20794),\n  range(20794, 21855),\n  range(21855, 22431),\n  range(22431, 23168),\n  range(23168, 24215),\n  range(24215, 25200),\n  range(25200, 25844)]}"
     },
     "metadata": {},
     "execution_count": 26
    }
   ],
   "source": [
    "print(data.shape, labels.shape, freq.shape)\n",
    "runs_per_class"
   ]
  },
  {
   "cell_type": "code",
   "execution_count": 27,
   "metadata": {},
   "outputs": [],
   "source": [
    "from sklearn.preprocessing import normalize\n",
    "data = normalize(data)"
   ]
  },
  {
   "cell_type": "code",
   "execution_count": 28,
   "metadata": {},
   "outputs": [],
   "source": [
    "from sklearn.decomposition import PCA\n",
    "pca = PCA(n_components=50)\n",
    "pca_data = pca.fit_transform(data)"
   ]
  },
  {
   "cell_type": "code",
   "execution_count": 29,
   "metadata": {},
   "outputs": [],
   "source": [
    "from sklearn.model_selection import train_test_split\n",
    "#Getting the data for the classifier for differentiating the class1 from the others\n",
    "binary_label = np.where(labels == 1, 1, -1)\n",
    "x_train, x_test, y_train, y_test = train_test_split(pca_data, labels, test_size = 0.1, shuffle=True)"
   ]
  },
  {
   "cell_type": "code",
   "execution_count": 30,
   "metadata": {
    "tags": []
   },
   "outputs": [
    {
     "output_type": "stream",
     "name": "stdout",
     "text": "[LibSVM]"
    },
    {
     "output_type": "execute_result",
     "data": {
      "text/plain": "SVC(C=1.0, break_ties=False, cache_size=200, class_weight=None, coef0=0.0,\n    decision_function_shape='ovr', degree=3, gamma='scale', kernel='rbf',\n    max_iter=-1, probability=False, random_state=None, shrinking=True,\n    tol=0.001, verbose=True)"
     },
     "metadata": {},
     "execution_count": 30
    }
   ],
   "source": [
    "from sklearn.svm import SVC\n",
    "svm_model = SVC(verbose=True)\n",
    "svm_model.fit(x_train, y_train)"
   ]
  },
  {
   "cell_type": "code",
   "execution_count": 31,
   "metadata": {
    "tags": []
   },
   "outputs": [
    {
     "output_type": "stream",
     "name": "stdout",
     "text": "[[375  28  19  14]\n [ 10 905  46  16]\n [ 12  87 270  13]\n [ 13  20   9 748]]\n              precision    recall  f1-score   support\n\n           0       0.91      0.86      0.89       436\n           1       0.87      0.93      0.90       977\n           2       0.78      0.71      0.74       382\n           3       0.95      0.95      0.95       790\n\n    accuracy                           0.89      2585\n   macro avg       0.88      0.86      0.87      2585\nweighted avg       0.89      0.89      0.89      2585\n\n"
    }
   ],
   "source": [
    "predictions = svm_model.predict(x_test)\n",
    "from sklearn.metrics import classification_report,confusion_matrix\n",
    "print(confusion_matrix(y_test,predictions))\n",
    "print(classification_report(y_test,predictions))"
   ]
  },
  {
   "cell_type": "code",
   "execution_count": 32,
   "metadata": {
    "tags": []
   },
   "outputs": [
    {
     "output_type": "stream",
     "name": "stdout",
     "text": "[LibSVM]"
    },
    {
     "output_type": "execute_result",
     "data": {
      "text/plain": "SVC(C=1.0, break_ties=False, cache_size=200, class_weight=None, coef0=0.0,\n    decision_function_shape='ovr', degree=3, gamma='scale', kernel='rbf',\n    max_iter=-1, probability=False, random_state=None, shrinking=True,\n    tol=0.001, verbose=True)"
     },
     "metadata": {},
     "execution_count": 32
    }
   ],
   "source": [
    "svm_binary  = SVC(verbose=True)\n",
    "bin_y_train = np.where(y_train ==1, 1, -1)\n",
    "bin_y_test = np.where(y_test ==1, 1, -1)\n",
    "svm_binary.fit(x_train, bin_y_train)"
   ]
  },
  {
   "cell_type": "code",
   "execution_count": 33,
   "metadata": {
    "tags": []
   },
   "outputs": [
    {
     "output_type": "stream",
     "name": "stdout",
     "text": "(2585,)\n[ 1 -1 -1 ... -1  1  1]\n[[1495  113]\n [ 112  865]]\n              precision    recall  f1-score   support\n\n          -1       0.93      0.93      0.93      1608\n           1       0.88      0.89      0.88       977\n\n    accuracy                           0.91      2585\n   macro avg       0.91      0.91      0.91      2585\nweighted avg       0.91      0.91      0.91      2585\n\n"
    }
   ],
   "source": [
    "predictions = svm_binary.predict(x_test)\n",
    "print(predictions.shape)\n",
    "print(predictions)\n",
    "print(confusion_matrix(bin_y_test,predictions))\n",
    "print(classification_report(bin_y_test,predictions))"
   ]
  },
  {
   "cell_type": "code",
   "execution_count": 34,
   "metadata": {
    "tags": []
   },
   "outputs": [
    {
     "output_type": "stream",
     "name": "stdout",
     "text": "(2585,)\n[1 2 2 ... 3 1 1]\n[[378  23  21  14]\n [  8 907  44  18]\n [ 16  93 258  15]\n [ 10  16   8 756]]\n              precision    recall  f1-score   support\n\n           0       0.92      0.87      0.89       436\n           1       0.87      0.93      0.90       977\n           2       0.78      0.68      0.72       382\n           3       0.94      0.96      0.95       790\n\n    accuracy                           0.89      2585\n   macro avg       0.88      0.86      0.87      2585\nweighted avg       0.89      0.89      0.89      2585\n\n"
    }
   ],
   "source": [
    "from sklearn.multiclass import OneVsRestClassifier\n",
    "clf = OneVsRestClassifier(SVC())\n",
    "clf.fit(x_train, y_train)\n",
    "predictions = clf.predict(x_test)\n",
    "print(predictions.shape)\n",
    "print(predictions)\n",
    "print(confusion_matrix(y_test,predictions))\n",
    "print(classification_report(y_test,predictions))"
   ]
  },
  {
   "cell_type": "code",
   "execution_count": 35,
   "metadata": {},
   "outputs": [],
   "source": [
    "import numpy as np\n",
    "import pandas as pd\n",
    "import sklearn as sk\n",
    "from sklearn.svm import SVC\n",
    "\n",
    "class OneVsRestSVCCommittee():\n",
    "\n",
    "    def __init__(self, class_mappping, expert_params=None):\n",
    "        self.class_mapping = class_mappping\n",
    "        if expert_params is None:\n",
    "            expert_params = dict.fromkeys(list(class_mapping.keys()), dict())\n",
    "        self.classifiers = {class_: SVC(**params) for class_, params in expert_params.items()}\n",
    "\n",
    "    def fit(self, X, y, verbose=True):\n",
    "\n",
    "        for class_name, class_value in self.class_mapping.items():\n",
    "            if verbose:\n",
    "                print(f'Fitting svm expert for class {class_name}')\n",
    "            self.classifiers[class_name].fit(X, np.where(y == class_value, 1, -1))\n",
    "    \n",
    "    def get_params(self):\n",
    "        return {class_: classifier.get_params() for class_, classifier in self.classifiers.items()}\n",
    "\n",
    "    def predict(self, X):\n",
    "        return np.column_stack([classifier.predict(X) for classifier in self.classifiers.values()])\n",
    "    \n",
    "    def score(self, X, y):\n",
    "        stack = list()\n",
    "        for class_name, class_value in self.class_mapping.items():\n",
    "            stack.append(self.classifiers[class_name].score(X, np.where(y == class_value, 1, -1)))\n",
    "        all_scores = np.column_stack(stack)\n",
    "        del stack\n",
    "        return all_scores   \n",
    "\n",
    "    def evaluate(self, X, y, metrics):\n",
    "        columns = np.array(self.class_mapping.keys())\n",
    "        index = list()\n",
    "        data = list()\n",
    "        for metric in metrics:\n",
    "            index.append(metric.__name__)\n",
    "            data.append([metric(np.where(y == class_value, 1, -1), self.classifiers[class_name].predict(X))\n",
    "                            for class_name, class_value in self.class_mapping.items()])\n",
    "        \n",
    "        frame = pd.DataFrame(data, index=index, columns=columns)\n",
    "        return frame\n",
    "\n",
    "    def set_params(self, class_, **params):\n",
    "        self.classifiers[class_].set_params(**params)\n"
   ]
  },
  {
   "cell_type": "code",
   "execution_count": 36,
   "metadata": {},
   "outputs": [],
   "source": [
    "classes_names = np.array(['A', 'B', 'C', 'D'])\n",
    "classes_values = np.arange(4)\n",
    "class_mapping = {class_: value for class_, value in zip(classes_names, classes_values)}"
   ]
  },
  {
   "cell_type": "code",
   "execution_count": 37,
   "metadata": {},
   "outputs": [],
   "source": [
    "svc_committee = OneVsRestSVCCommittee(class_mapping)"
   ]
  },
  {
   "cell_type": "code",
   "execution_count": 38,
   "metadata": {
    "tags": []
   },
   "outputs": [
    {
     "output_type": "stream",
     "name": "stdout",
     "text": "Fitting svm expert for class A\nFitting svm expert for class B\nFitting svm expert for class C\nFitting svm expert for class D\n"
    }
   ],
   "source": [
    "svc_committee.fit(x_train, y_train)"
   ]
  },
  {
   "cell_type": "code",
   "execution_count": 39,
   "metadata": {
    "tags": []
   },
   "outputs": [
    {
     "output_type": "stream",
     "name": "stdout",
     "text": "(2585,)\n[1 0 2 ... 3 1 1]\n"
    }
   ],
   "source": [
    "predictions = np.argmax(svc_committee.predict(x_test), axis=1)\n",
    "print(predictions.shape)\n",
    "print(predictions)"
   ]
  },
  {
   "cell_type": "code",
   "execution_count": 40,
   "metadata": {
    "tags": []
   },
   "outputs": [
    {
     "output_type": "stream",
     "name": "stdout",
     "text": "[[404  16   9   7]\n [ 81 863  23  10]\n [ 63  77 236   6]\n [ 35  15   6 734]]\n              precision    recall  f1-score   support\n\n           0       0.69      0.93      0.79       436\n           1       0.89      0.88      0.89       977\n           2       0.86      0.62      0.72       382\n           3       0.97      0.93      0.95       790\n\n    accuracy                           0.87      2585\n   macro avg       0.85      0.84      0.84      2585\nweighted avg       0.88      0.87      0.86      2585\n\n"
    }
   ],
   "source": [
    "print(confusion_matrix(y_test,predictions))\n",
    "print(classification_report(y_test,predictions))"
   ]
  }
 ],
 "metadata": {
  "language_info": {
   "codemirror_mode": {
    "name": "ipython",
    "version": 3
   },
   "file_extension": ".py",
   "mimetype": "text/x-python",
   "name": "python",
   "nbconvert_exporter": "python",
   "pygments_lexer": "ipython3",
   "version": "3.7.7-final"
  },
  "orig_nbformat": 2,
  "kernelspec": {
   "name": "python3",
   "display_name": "Python 3"
  }
 },
 "nbformat": 4,
 "nbformat_minor": 2
}